{
 "cells": [
  {
   "cell_type": "markdown",
   "metadata": {},
   "source": [
    "Write a function filter_long_words() that takes a list of words and an integer n and returns the list of words that are longer than n\n"
   ]
  },
  {
   "cell_type": "code",
   "execution_count": 85,
   "metadata": {},
   "outputs": [
    {
     "name": "stdout",
     "output_type": "stream",
     "text": [
      "Test if a list of words is longer than a number and then return the list if it is longer than a number.\n",
      "Type a List of Words: This is a test of the break after the for loop\n",
      "Enter a Number from 1-10: 9\n",
      "This\n",
      "is\n",
      "a\n",
      "test\n",
      "of\n",
      "the\n",
      "break\n",
      "after\n",
      "the\n",
      "for\n",
      "loop\n"
     ]
    }
   ],
   "source": [
    "# YOUR CODE HERE\n",
    "#\n",
    "\n",
    "print(\"Test if a list of words is longer than a number and then return the list if it is longer than a number.\")\n",
    "\n",
    "def filter_long_words():\n",
    "    \n",
    "    while True:\n",
    "        words = []\n",
    "        x = input(\"Type a List of Words: \");\n",
    "        for i in x.split(\" \"):\n",
    "            words = words + [i]\n",
    "        #print(words)\n",
    "        number = input(\"Enter a Number from 1-10: \");\n",
    "        try:\n",
    "            int(number)\n",
    "            break\n",
    "        except ValueError:\n",
    "            print(\"No valid integer! Please try again ...\")\n",
    "    \n",
    "    while True:\n",
    "    \n",
    "        try:\n",
    "            if(len(words) > int(number)):\n",
    "                for i in words:\n",
    "                    print(i);\n",
    "                break\n",
    "        except NotImplementedError as e:\n",
    "            raise NotImplementedError(e)\n",
    "    \n",
    "\n",
    "filter_long_words()\n",
    "    \n"
   ]
  },
  {
   "cell_type": "code",
   "execution_count": null,
   "metadata": {},
   "outputs": [],
   "source": []
  },
  {
   "cell_type": "raw",
   "metadata": {},
   "source": []
  }
 ],
 "metadata": {
  "kernelspec": {
   "display_name": "Python 3",
   "language": "python",
   "name": "python3"
  },
  "language_info": {
   "codemirror_mode": {
    "name": "ipython",
    "version": 3
   },
   "file_extension": ".py",
   "mimetype": "text/x-python",
   "name": "python",
   "nbconvert_exporter": "python",
   "pygments_lexer": "ipython3",
   "version": "3.6.4"
  }
 },
 "nbformat": 4,
 "nbformat_minor": 2
}
